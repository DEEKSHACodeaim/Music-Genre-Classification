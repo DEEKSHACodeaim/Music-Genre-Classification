{
  "nbformat": 4,
  "nbformat_minor": 0,
  "metadata": {
    "colab": {
      "name": "Model_render.ipynb",
      "provenance": [],
      "collapsed_sections": []
    },
    "kernelspec": {
      "name": "python3",
      "display_name": "Python 3"
    },
    "language_info": {
      "name": "python"
    },
    "accelerator": "GPU"
  },
  "cells": [
    {
      "cell_type": "markdown",
      "source": [
        "# Music Genre Classification (Prediction Code)"
      ],
      "metadata": {
        "id": "nO4UCEKhUpJ6"
      }
    },
    {
      "cell_type": "markdown",
      "source": [
        "Install dependencies"
      ],
      "metadata": {
        "id": "PYcYFG-_UxX7"
      }
    },
    {
      "cell_type": "code",
      "source": [
        "!apt install libasound2-dev portaudio19-dev libportaudio2 libportaudiocpp0 ffmpeg"
      ],
      "metadata": {
        "id": "A6NqrqA1Iea0"
      },
      "execution_count": null,
      "outputs": []
    },
    {
      "cell_type": "code",
      "source": [
        "! pip install pyaudio"
      ],
      "metadata": {
        "id": "cudCq7GAIIZx"
      },
      "execution_count": null,
      "outputs": []
    },
    {
      "cell_type": "markdown",
      "source": [
        "Import libraries"
      ],
      "metadata": {
        "id": "n-oGJ9yIU0GX"
      }
    },
    {
      "cell_type": "code",
      "source": [
        "import librosa\n",
        "import pyaudio\n",
        "import numpy as np\n",
        "import random\n",
        "import struct\n",
        "import time\n",
        "from tensorflow.keras.models import Model,load_model\n",
        "import cv2\n",
        "import matplotlib.pyplot as plt\n",
        "import librosa.display\n",
        "import os"
      ],
      "metadata": {
        "id": "xXH_QvB5H8ch"
      },
      "execution_count": null,
      "outputs": []
    },
    {
      "cell_type": "markdown",
      "source": [
        "Load Model and Audio clip"
      ],
      "metadata": {
        "id": "pRs-sHIkU7Fj"
      }
    },
    {
      "cell_type": "code",
      "source": [
        "model = load_model(\"/content/MobileNetV2Combined.h5\")"
      ],
      "metadata": {
        "id": "SyATI_cGS7Ov"
      },
      "execution_count": null,
      "outputs": []
    },
    {
      "cell_type": "code",
      "source": [
        "aud_path = 'audio1.mp3'"
      ],
      "metadata": {
        "id": "EUSte5TIDUAo"
      },
      "execution_count": null,
      "outputs": []
    },
    {
      "cell_type": "markdown",
      "source": [
        "Generate the Image for the audio clip"
      ],
      "metadata": {
        "id": "YmQN0oZXVQEO"
      }
    },
    {
      "cell_type": "code",
      "source": [
        "def func_spec(aud):\n",
        "    img_names = aud\n",
        "    names = img_names[:1]\n",
        "    x , sr = librosa.load(aud)\n",
        "    X = librosa.stft(x)\n",
        "    Xdb = librosa.amplitude_to_db(abs(X))\n",
        "    librosa.display.specshow(Xdb)\n",
        "    plt.savefig('/content/Images.png')\n",
        "    plt.close()\n"
      ],
      "metadata": {
        "id": "QjOxv7ZNkqPm"
      },
      "execution_count": null,
      "outputs": []
    },
    {
      "cell_type": "code",
      "source": [
        "func_spec(aud_path)"
      ],
      "metadata": {
        "id": "44fyCWmTnCGU"
      },
      "execution_count": null,
      "outputs": []
    },
    {
      "cell_type": "markdown",
      "source": [
        "Generate Wavelet for the Audio Clip"
      ],
      "metadata": {
        "id": "JhUf4-m6VVhQ"
      }
    },
    {
      "cell_type": "code",
      "source": [
        "def func_wavelet(aud):\n",
        "    img_names = aud\n",
        "    names = img_names[:1]\n",
        "    c=0\n",
        "    x , sr =librosa.load(aud)\n",
        "    librosa.display.waveplot(x)\n",
        "    plt.savefig('/content/Wavelet.png')\n",
        "    plt.close()"
      ],
      "metadata": {
        "id": "OpGiZgbWnfDS"
      },
      "execution_count": null,
      "outputs": []
    },
    {
      "cell_type": "code",
      "source": [
        "func_wavelet(aud_path)"
      ],
      "metadata": {
        "id": "S4d_tJ2VoD46"
      },
      "execution_count": null,
      "outputs": []
    },
    {
      "cell_type": "markdown",
      "source": [
        "Prediction"
      ],
      "metadata": {
        "id": "bUsJxHnYVbzb"
      }
    },
    {
      "cell_type": "code",
      "source": [
        "img_size = 256\n",
        "img_arr_wav = cv2.imread('/content/Wavelet.png')[...,::-1] #convert BGR to RGB format\n",
        "resized_arr_wav = cv2.resize(img_arr_wav, (img_size, img_size)) # Reshaping images to preferred size\n",
        "img_arr_spec = cv2.imread('/content/Images.png')[...,::-1] #convert BGR to RGB format\n",
        "resized_arr_spec = cv2.resize(img_arr_spec, (img_size, img_size)) # Reshaping images to preferred size\n",
        "\n",
        "x_sp = []\n",
        "x_wv = []\n",
        "\n",
        "x_wv.append(resized_arr_wav)\n",
        "x_sp.append(resized_arr_spec)\n",
        "\n",
        "# Normalize data\n",
        "x_sp = np.array(x_sp)/255\n",
        "x_wv = np.array(x_wv)/255\n",
        "\n",
        "#Reshaping it so that it can be fed into model\n",
        "x_sp.reshape(-1, img_size, img_size, 1)\n",
        "x_wv.reshape(-1, img_size, img_size, 1)\n",
        "\n",
        "predictions = model.predict([x_sp, x_wv])"
      ],
      "metadata": {
        "id": "Ve17YDa3-PCx"
      },
      "execution_count": null,
      "outputs": []
    },
    {
      "cell_type": "code",
      "source": [
        "result=np. where(predictions[0] == max(predictions[0]))"
      ],
      "metadata": {
        "id": "VBOT9InSCliG"
      },
      "execution_count": null,
      "outputs": []
    },
    {
      "cell_type": "code",
      "source": [
        "labels = ['blues', 'classical', 'country', 'disco', 'hiphop', 'jazz', 'metal', 'pop', 'reggae', 'rock']\n",
        "print(labels[result[0][0]])"
      ],
      "metadata": {
        "id": "G1l1YdS1DWLU"
      },
      "execution_count": null,
      "outputs": []
    }
  ]
}